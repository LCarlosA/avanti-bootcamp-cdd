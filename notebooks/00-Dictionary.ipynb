{
 "cells": [
  {
   "cell_type": "markdown",
   "metadata": {},
   "source": [
    "# Análise exploratória de dados"
   ]
  },
  {
   "cell_type": "code",
   "execution_count": 1,
   "metadata": {},
   "outputs": [],
   "source": [
    "import pandas as pd\n",
    "import seaborn as sns"
   ]
  },
  {
   "cell_type": "markdown",
   "metadata": {},
   "source": [
    "## 1. Descrição dos dados"
   ]
  },
  {
   "cell_type": "code",
   "execution_count": 3,
   "metadata": {},
   "outputs": [],
   "source": [
    "df = sns.load_dataset('diamonds');\n",
    "df.head()\n",
    "df.to_csv('../data/raw/data.csv', index = False)"
   ]
  },
  {
   "cell_type": "markdown",
   "metadata": {},
   "source": [
    "## 2. Dicionarios"
   ]
  },
  {
   "cell_type": "code",
   "execution_count": 4,
   "metadata": {},
   "outputs": [],
   "source": [
    "df_dict = pd.DataFrame([\n",
    "    {\n",
    "    \"variavel\": \"carat\",\n",
    "    \"descricao\":\"Peso do diamante(g) -- Quilates\",\n",
    "    \"tipo\": \"quantitativo\",\n",
    "    \"subtipo\": \"continua\",\n",
    "    },{\n",
    "    \"variavel\": \"cut\",\n",
    "    \"descricao\": \"Tipo/Qualidade do corte realizado no diamante (Ordenado do pior pro melhor)\",\n",
    "    \"tipo\": \"qualitativo\",\n",
    "    \"subtipo\": \"ordinal\",\n",
    "    },{\n",
    "    \"variavel\": \"color\",\n",
    "    \"descricao\": \"Cor do Diamante (Ordenado do melhor pro pior)\",\n",
    "    \"tipo\": \"qualitativo\",\n",
    "    \"subtipo\": \"ordinal\",\n",
    "    },{\n",
    "    \"variavel\": \"clarity\",\n",
    "    \"descricao\": \"Brilho do diamante (Ordenado do pior para o melhor)\",\n",
    "    \"tipo\": \"qualitativo\",\n",
    "    \"subtipo\": \"ordinal\",\n",
    "    },{\n",
    "    \"variavel\": \"depth\",\n",
    "    \"descricao\": \"Percentual de profundidade do diamante\",\n",
    "    \"tipo\": \"quantitativo\",\n",
    "    \"subtipo\": \"continua\",\n",
    "    },{\n",
    "    \"variavel\": \"table\",\n",
    "    \"descricao\": \"Largura do topo do diamante em relação ao ponto mais largo\",\n",
    "    \"tipo\": \"quantitativo\",\n",
    "    \"subtipo\": \"qualitativo\",\n",
    "    },{\n",
    "    \"variavel\": \"price\",\n",
    "    \"descricao\": \"Preço do diamante em Dolar ($)\",\n",
    "    \"tipo\": \"quantitativo\",\n",
    "    \"subtipo\": \"discreta\",\n",
    "    },{\n",
    "    \"variavel\": \"x\",\n",
    "    \"descricao\": \"Uma dimensão do diamante\",\n",
    "    \"tipo\": \"quantitativo\",\n",
    "    \"subtipo\": \"continua\",\n",
    "    },{\n",
    "    \"variavel\": \"y\",\n",
    "    \"descricao\": \"Uma dimensão do diamante\",\n",
    "    \"tipo\": \"quantitativo\",\n",
    "    \"subtipo\": \"continua\",\n",
    "    },{\n",
    "    \"variavel\": \"z\",\n",
    "    \"descricao\": \"Uma dimensão do diamante\",\n",
    "    \"tipo\": \"quantitativo\",\n",
    "    \"subtipo\": \"continua\",\n",
    "    }\n",
    "])"
   ]
  },
  {
   "cell_type": "code",
   "execution_count": 5,
   "metadata": {},
   "outputs": [],
   "source": [
    "df_dict.to_csv('../data/external/dicionario.csv')"
   ]
  },
  {
   "cell_type": "markdown",
   "metadata": {},
   "source": [
    "## 3. Insights"
   ]
  },
  {
   "cell_type": "code",
   "execution_count": null,
   "metadata": {},
   "outputs": [],
   "source": []
  }
 ],
 "metadata": {
  "kernelspec": {
   "display_name": "Python 3 (ipykernel)",
   "language": "python",
   "name": "python3"
  },
  "language_info": {
   "codemirror_mode": {
    "name": "ipython",
    "version": 3
   },
   "file_extension": ".py",
   "mimetype": "text/x-python",
   "name": "python",
   "nbconvert_exporter": "python",
   "pygments_lexer": "ipython3",
   "version": "3.12.1"
  },
  "vscode": {
   "interpreter": {
    "hash": "eb3c3305d8b111f0102f4f519c5f17abd113fe74db6752c355e994a9008815ef"
   }
  }
 },
 "nbformat": 4,
 "nbformat_minor": 4
}
